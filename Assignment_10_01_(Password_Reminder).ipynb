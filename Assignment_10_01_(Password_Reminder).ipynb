{
  "nbformat": 4,
  "nbformat_minor": 0,
  "metadata": {
    "colab": {
      "name": "Assignment - 10/01 (Password Reminder).ipynb",
      "provenance": [],
      "authorship_tag": "ABX9TyOpkMoWQ0bWb8WbAj3MNTfj",
      "include_colab_link": true
    },
    "kernelspec": {
      "name": "python3",
      "display_name": "Python 3"
    },
    "language_info": {
      "name": "python"
    }
  },
  "cells": [
    {
      "cell_type": "markdown",
      "metadata": {
        "id": "view-in-github",
        "colab_type": "text"
      },
      "source": [
        "<a href=\"https://colab.research.google.com/github/erdmhbl/Python-Assignment/blob/main/Assignment_10_01_(Password_Reminder).ipynb\" target=\"_parent\"><img src=\"https://colab.research.google.com/assets/colab-badge.svg\" alt=\"Open In Colab\"/></a>"
      ]
    },
    {
      "cell_type": "code",
      "metadata": {
        "id": "P64uz0xNamTE"
      },
      "source": [
        "kullanıcıadı = input(\"Lütfen kullanıcı adınızı giriniz:\").title().strip()\n",
        "\n",
        "şifre = \"1234@zxc\"\n",
        "\n",
        "name = \"Yusuf\"\n",
        "\n",
        "if kullanıcıadı == name : \n",
        "\n",
        "    print (\"Hello Yusuf! Şifre:\", şifre )\n",
        "\n",
        "else:\n",
        "\n",
        "    print(\"Hello {}! See you later\".format(kullanıcıadı))"
      ],
      "execution_count": null,
      "outputs": []
    }
  ]
}